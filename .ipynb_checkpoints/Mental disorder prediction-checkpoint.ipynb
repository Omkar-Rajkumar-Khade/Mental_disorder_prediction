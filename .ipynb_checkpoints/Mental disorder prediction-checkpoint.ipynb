{
 "cells": [
  {
   "cell_type": "code",
   "execution_count": 1,
   "id": "46d5a96a",
   "metadata": {},
   "outputs": [],
   "source": [
    "from sklearn.pipeline import Pipeline\n",
    "from sklearn.compose import ColumnTransformer\n",
    "from sklearn.preprocessing import StandardScaler, OneHotEncoder\n",
    "from sklearn.linear_model import LinearRegression\n",
    "from sklearn.model_selection import train_test_split\n",
    "import pandas as pd\n",
    "from sklearn.model_selection import cross_val_score\n",
    "from sklearn.tree import DecisionTreeRegressor"
   ]
  },
  {
   "cell_type": "code",
   "execution_count": 2,
   "id": "4edbb352",
   "metadata": {},
   "outputs": [
    {
     "data": {
      "text/html": [
       "<div>\n",
       "<style scoped>\n",
       "    .dataframe tbody tr th:only-of-type {\n",
       "        vertical-align: middle;\n",
       "    }\n",
       "\n",
       "    .dataframe tbody tr th {\n",
       "        vertical-align: top;\n",
       "    }\n",
       "\n",
       "    .dataframe thead th {\n",
       "        text-align: right;\n",
       "    }\n",
       "</style>\n",
       "<table border=\"1\" class=\"dataframe\">\n",
       "  <thead>\n",
       "    <tr style=\"text-align: right;\">\n",
       "      <th></th>\n",
       "      <th>Country</th>\n",
       "      <th>Year</th>\n",
       "      <th>Schizophrenia</th>\n",
       "      <th>Bipolar disorder</th>\n",
       "      <th>Eating disorders</th>\n",
       "      <th>Anxiety disorders</th>\n",
       "      <th>Drug use disorders</th>\n",
       "      <th>Depression</th>\n",
       "      <th>Alcohol use disorders</th>\n",
       "    </tr>\n",
       "  </thead>\n",
       "  <tbody>\n",
       "    <tr>\n",
       "      <th>0</th>\n",
       "      <td>Argentina</td>\n",
       "      <td>1990</td>\n",
       "      <td>0.194422</td>\n",
       "      <td>0.755674</td>\n",
       "      <td>0.323686</td>\n",
       "      <td>6.165921</td>\n",
       "      <td>0.919424</td>\n",
       "      <td>3.569180</td>\n",
       "      <td>1.918939</td>\n",
       "    </tr>\n",
       "    <tr>\n",
       "      <th>1</th>\n",
       "      <td>Argentina</td>\n",
       "      <td>1991</td>\n",
       "      <td>0.194184</td>\n",
       "      <td>0.756386</td>\n",
       "      <td>0.326904</td>\n",
       "      <td>6.174471</td>\n",
       "      <td>0.920323</td>\n",
       "      <td>3.579068</td>\n",
       "      <td>2.022040</td>\n",
       "    </tr>\n",
       "    <tr>\n",
       "      <th>2</th>\n",
       "      <td>Argentina</td>\n",
       "      <td>1992</td>\n",
       "      <td>0.194034</td>\n",
       "      <td>0.757139</td>\n",
       "      <td>0.330504</td>\n",
       "      <td>6.182707</td>\n",
       "      <td>0.921296</td>\n",
       "      <td>3.588855</td>\n",
       "      <td>2.116047</td>\n",
       "    </tr>\n",
       "    <tr>\n",
       "      <th>3</th>\n",
       "      <td>Argentina</td>\n",
       "      <td>1993</td>\n",
       "      <td>0.193973</td>\n",
       "      <td>0.757909</td>\n",
       "      <td>0.334286</td>\n",
       "      <td>6.190356</td>\n",
       "      <td>0.921620</td>\n",
       "      <td>3.597366</td>\n",
       "      <td>2.193307</td>\n",
       "    </tr>\n",
       "    <tr>\n",
       "      <th>4</th>\n",
       "      <td>Argentina</td>\n",
       "      <td>1994</td>\n",
       "      <td>0.194004</td>\n",
       "      <td>0.758686</td>\n",
       "      <td>0.338418</td>\n",
       "      <td>6.197271</td>\n",
       "      <td>0.921581</td>\n",
       "      <td>3.606913</td>\n",
       "      <td>2.246206</td>\n",
       "    </tr>\n",
       "    <tr>\n",
       "      <th>...</th>\n",
       "      <td>...</td>\n",
       "      <td>...</td>\n",
       "      <td>...</td>\n",
       "      <td>...</td>\n",
       "      <td>...</td>\n",
       "      <td>...</td>\n",
       "      <td>...</td>\n",
       "      <td>...</td>\n",
       "      <td>...</td>\n",
       "    </tr>\n",
       "    <tr>\n",
       "      <th>1311</th>\n",
       "      <td>Zimbabwe</td>\n",
       "      <td>2013</td>\n",
       "      <td>0.155670</td>\n",
       "      <td>0.607993</td>\n",
       "      <td>0.117248</td>\n",
       "      <td>3.090168</td>\n",
       "      <td>0.766280</td>\n",
       "      <td>3.128192</td>\n",
       "      <td>1.515641</td>\n",
       "    </tr>\n",
       "    <tr>\n",
       "      <th>1312</th>\n",
       "      <td>Zimbabwe</td>\n",
       "      <td>2014</td>\n",
       "      <td>0.155993</td>\n",
       "      <td>0.608610</td>\n",
       "      <td>0.118073</td>\n",
       "      <td>3.093964</td>\n",
       "      <td>0.768914</td>\n",
       "      <td>3.140290</td>\n",
       "      <td>1.515470</td>\n",
       "    </tr>\n",
       "    <tr>\n",
       "      <th>1313</th>\n",
       "      <td>Zimbabwe</td>\n",
       "      <td>2015</td>\n",
       "      <td>0.156465</td>\n",
       "      <td>0.609363</td>\n",
       "      <td>0.119470</td>\n",
       "      <td>3.098687</td>\n",
       "      <td>0.771802</td>\n",
       "      <td>3.155710</td>\n",
       "      <td>1.514751</td>\n",
       "    </tr>\n",
       "    <tr>\n",
       "      <th>1314</th>\n",
       "      <td>Zimbabwe</td>\n",
       "      <td>2016</td>\n",
       "      <td>0.157111</td>\n",
       "      <td>0.610234</td>\n",
       "      <td>0.121456</td>\n",
       "      <td>3.104294</td>\n",
       "      <td>0.772275</td>\n",
       "      <td>3.174134</td>\n",
       "      <td>1.513269</td>\n",
       "    </tr>\n",
       "    <tr>\n",
       "      <th>1315</th>\n",
       "      <td>Zimbabwe</td>\n",
       "      <td>2017</td>\n",
       "      <td>0.157963</td>\n",
       "      <td>0.611242</td>\n",
       "      <td>0.124443</td>\n",
       "      <td>3.110926</td>\n",
       "      <td>0.772648</td>\n",
       "      <td>3.192789</td>\n",
       "      <td>1.510943</td>\n",
       "    </tr>\n",
       "  </tbody>\n",
       "</table>\n",
       "<p>1316 rows × 9 columns</p>\n",
       "</div>"
      ],
      "text/plain": [
       "        Country  Year  Schizophrenia  Bipolar disorder  Eating disorders  \\\n",
       "0     Argentina  1990       0.194422          0.755674          0.323686   \n",
       "1     Argentina  1991       0.194184          0.756386          0.326904   \n",
       "2     Argentina  1992       0.194034          0.757139          0.330504   \n",
       "3     Argentina  1993       0.193973          0.757909          0.334286   \n",
       "4     Argentina  1994       0.194004          0.758686          0.338418   \n",
       "...         ...   ...            ...               ...               ...   \n",
       "1311   Zimbabwe  2013       0.155670          0.607993          0.117248   \n",
       "1312   Zimbabwe  2014       0.155993          0.608610          0.118073   \n",
       "1313   Zimbabwe  2015       0.156465          0.609363          0.119470   \n",
       "1314   Zimbabwe  2016       0.157111          0.610234          0.121456   \n",
       "1315   Zimbabwe  2017       0.157963          0.611242          0.124443   \n",
       "\n",
       "      Anxiety disorders  Drug use disorders  Depression  Alcohol use disorders  \n",
       "0              6.165921            0.919424    3.569180               1.918939  \n",
       "1              6.174471            0.920323    3.579068               2.022040  \n",
       "2              6.182707            0.921296    3.588855               2.116047  \n",
       "3              6.190356            0.921620    3.597366               2.193307  \n",
       "4              6.197271            0.921581    3.606913               2.246206  \n",
       "...                 ...                 ...         ...                    ...  \n",
       "1311           3.090168            0.766280    3.128192               1.515641  \n",
       "1312           3.093964            0.768914    3.140290               1.515470  \n",
       "1313           3.098687            0.771802    3.155710               1.514751  \n",
       "1314           3.104294            0.772275    3.174134               1.513269  \n",
       "1315           3.110926            0.772648    3.192789               1.510943  \n",
       "\n",
       "[1316 rows x 9 columns]"
      ]
     },
     "execution_count": 2,
     "metadata": {},
     "output_type": "execute_result"
    }
   ],
   "source": [
    "df = pd.read_csv('./dataset/Countrywise mental disorder.csv')\n",
    "df"
   ]
  },
  {
   "cell_type": "code",
   "execution_count": 3,
   "id": "d1260c44",
   "metadata": {},
   "outputs": [
    {
     "data": {
      "text/plain": [
       "Country                   object\n",
       "Year                       int64\n",
       "Schizophrenia            float64\n",
       "Bipolar disorder         float64\n",
       "Eating disorders         float64\n",
       "Anxiety disorders        float64\n",
       "Drug use disorders       float64\n",
       "Depression               float64\n",
       "Alcohol use disorders    float64\n",
       "dtype: object"
      ]
     },
     "execution_count": 3,
     "metadata": {},
     "output_type": "execute_result"
    }
   ],
   "source": [
    "df.dtypes"
   ]
  },
  {
   "cell_type": "code",
   "execution_count": 4,
   "id": "9c861ba9",
   "metadata": {},
   "outputs": [
    {
     "data": {
      "text/html": [
       "<div>\n",
       "<style scoped>\n",
       "    .dataframe tbody tr th:only-of-type {\n",
       "        vertical-align: middle;\n",
       "    }\n",
       "\n",
       "    .dataframe tbody tr th {\n",
       "        vertical-align: top;\n",
       "    }\n",
       "\n",
       "    .dataframe thead th {\n",
       "        text-align: right;\n",
       "    }\n",
       "</style>\n",
       "<table border=\"1\" class=\"dataframe\">\n",
       "  <thead>\n",
       "    <tr style=\"text-align: right;\">\n",
       "      <th></th>\n",
       "      <th>Country</th>\n",
       "      <th>Year</th>\n",
       "      <th>Schizophrenia</th>\n",
       "      <th>Bipolar disorder</th>\n",
       "      <th>Eating disorders</th>\n",
       "      <th>Anxiety disorders</th>\n",
       "      <th>Drug use disorders</th>\n",
       "      <th>Depression</th>\n",
       "      <th>Alcohol use disorders</th>\n",
       "    </tr>\n",
       "  </thead>\n",
       "  <tbody>\n",
       "    <tr>\n",
       "      <th>0</th>\n",
       "      <td>Argentina</td>\n",
       "      <td>1990</td>\n",
       "      <td>0.194422</td>\n",
       "      <td>0.755674</td>\n",
       "      <td>0.323686</td>\n",
       "      <td>6.165921</td>\n",
       "      <td>0.919424</td>\n",
       "      <td>3.569180</td>\n",
       "      <td>1.918939</td>\n",
       "    </tr>\n",
       "    <tr>\n",
       "      <th>1</th>\n",
       "      <td>Argentina</td>\n",
       "      <td>1991</td>\n",
       "      <td>0.194184</td>\n",
       "      <td>0.756386</td>\n",
       "      <td>0.326904</td>\n",
       "      <td>6.174471</td>\n",
       "      <td>0.920323</td>\n",
       "      <td>3.579068</td>\n",
       "      <td>2.022040</td>\n",
       "    </tr>\n",
       "    <tr>\n",
       "      <th>2</th>\n",
       "      <td>Argentina</td>\n",
       "      <td>1992</td>\n",
       "      <td>0.194034</td>\n",
       "      <td>0.757139</td>\n",
       "      <td>0.330504</td>\n",
       "      <td>6.182707</td>\n",
       "      <td>0.921296</td>\n",
       "      <td>3.588855</td>\n",
       "      <td>2.116047</td>\n",
       "    </tr>\n",
       "    <tr>\n",
       "      <th>3</th>\n",
       "      <td>Argentina</td>\n",
       "      <td>1993</td>\n",
       "      <td>0.193973</td>\n",
       "      <td>0.757909</td>\n",
       "      <td>0.334286</td>\n",
       "      <td>6.190356</td>\n",
       "      <td>0.921620</td>\n",
       "      <td>3.597366</td>\n",
       "      <td>2.193307</td>\n",
       "    </tr>\n",
       "    <tr>\n",
       "      <th>4</th>\n",
       "      <td>Argentina</td>\n",
       "      <td>1994</td>\n",
       "      <td>0.194004</td>\n",
       "      <td>0.758686</td>\n",
       "      <td>0.338418</td>\n",
       "      <td>6.197271</td>\n",
       "      <td>0.921581</td>\n",
       "      <td>3.606913</td>\n",
       "      <td>2.246206</td>\n",
       "    </tr>\n",
       "    <tr>\n",
       "      <th>...</th>\n",
       "      <td>...</td>\n",
       "      <td>...</td>\n",
       "      <td>...</td>\n",
       "      <td>...</td>\n",
       "      <td>...</td>\n",
       "      <td>...</td>\n",
       "      <td>...</td>\n",
       "      <td>...</td>\n",
       "      <td>...</td>\n",
       "    </tr>\n",
       "    <tr>\n",
       "      <th>1311</th>\n",
       "      <td>Zimbabwe</td>\n",
       "      <td>2013</td>\n",
       "      <td>0.155670</td>\n",
       "      <td>0.607993</td>\n",
       "      <td>0.117248</td>\n",
       "      <td>3.090168</td>\n",
       "      <td>0.766280</td>\n",
       "      <td>3.128192</td>\n",
       "      <td>1.515641</td>\n",
       "    </tr>\n",
       "    <tr>\n",
       "      <th>1312</th>\n",
       "      <td>Zimbabwe</td>\n",
       "      <td>2014</td>\n",
       "      <td>0.155993</td>\n",
       "      <td>0.608610</td>\n",
       "      <td>0.118073</td>\n",
       "      <td>3.093964</td>\n",
       "      <td>0.768914</td>\n",
       "      <td>3.140290</td>\n",
       "      <td>1.515470</td>\n",
       "    </tr>\n",
       "    <tr>\n",
       "      <th>1313</th>\n",
       "      <td>Zimbabwe</td>\n",
       "      <td>2015</td>\n",
       "      <td>0.156465</td>\n",
       "      <td>0.609363</td>\n",
       "      <td>0.119470</td>\n",
       "      <td>3.098687</td>\n",
       "      <td>0.771802</td>\n",
       "      <td>3.155710</td>\n",
       "      <td>1.514751</td>\n",
       "    </tr>\n",
       "    <tr>\n",
       "      <th>1314</th>\n",
       "      <td>Zimbabwe</td>\n",
       "      <td>2016</td>\n",
       "      <td>0.157111</td>\n",
       "      <td>0.610234</td>\n",
       "      <td>0.121456</td>\n",
       "      <td>3.104294</td>\n",
       "      <td>0.772275</td>\n",
       "      <td>3.174134</td>\n",
       "      <td>1.513269</td>\n",
       "    </tr>\n",
       "    <tr>\n",
       "      <th>1315</th>\n",
       "      <td>Zimbabwe</td>\n",
       "      <td>2017</td>\n",
       "      <td>0.157963</td>\n",
       "      <td>0.611242</td>\n",
       "      <td>0.124443</td>\n",
       "      <td>3.110926</td>\n",
       "      <td>0.772648</td>\n",
       "      <td>3.192789</td>\n",
       "      <td>1.510943</td>\n",
       "    </tr>\n",
       "  </tbody>\n",
       "</table>\n",
       "<p>1316 rows × 9 columns</p>\n",
       "</div>"
      ],
      "text/plain": [
       "        Country  Year  Schizophrenia  Bipolar disorder  Eating disorders  \\\n",
       "0     Argentina  1990       0.194422          0.755674          0.323686   \n",
       "1     Argentina  1991       0.194184          0.756386          0.326904   \n",
       "2     Argentina  1992       0.194034          0.757139          0.330504   \n",
       "3     Argentina  1993       0.193973          0.757909          0.334286   \n",
       "4     Argentina  1994       0.194004          0.758686          0.338418   \n",
       "...         ...   ...            ...               ...               ...   \n",
       "1311   Zimbabwe  2013       0.155670          0.607993          0.117248   \n",
       "1312   Zimbabwe  2014       0.155993          0.608610          0.118073   \n",
       "1313   Zimbabwe  2015       0.156465          0.609363          0.119470   \n",
       "1314   Zimbabwe  2016       0.157111          0.610234          0.121456   \n",
       "1315   Zimbabwe  2017       0.157963          0.611242          0.124443   \n",
       "\n",
       "      Anxiety disorders  Drug use disorders  Depression  Alcohol use disorders  \n",
       "0              6.165921            0.919424    3.569180               1.918939  \n",
       "1              6.174471            0.920323    3.579068               2.022040  \n",
       "2              6.182707            0.921296    3.588855               2.116047  \n",
       "3              6.190356            0.921620    3.597366               2.193307  \n",
       "4              6.197271            0.921581    3.606913               2.246206  \n",
       "...                 ...                 ...         ...                    ...  \n",
       "1311           3.090168            0.766280    3.128192               1.515641  \n",
       "1312           3.093964            0.768914    3.140290               1.515470  \n",
       "1313           3.098687            0.771802    3.155710               1.514751  \n",
       "1314           3.104294            0.772275    3.174134               1.513269  \n",
       "1315           3.110926            0.772648    3.192789               1.510943  \n",
       "\n",
       "[1316 rows x 9 columns]"
      ]
     },
     "execution_count": 4,
     "metadata": {},
     "output_type": "execute_result"
    }
   ],
   "source": [
    "# Group the data by Centername and months and take the mean of the fruit prices for each group\n",
    "data = df.groupby([\"Country\", \"Year\"]).mean().reset_index()\n",
    "data"
   ]
  },
  {
   "cell_type": "code",
   "execution_count": 5,
   "id": "efe65d29",
   "metadata": {},
   "outputs": [],
   "source": [
    "X = data[[\"Country\", \"Year\"]]\n",
    "y = data.drop([\"Country\", \"Year\"], axis=1)"
   ]
  },
  {
   "cell_type": "code",
   "execution_count": 6,
   "id": "ca254d1a",
   "metadata": {},
   "outputs": [],
   "source": [
    "# Split the data into training and testing sets\n",
    "X_train, X_test, y_train, y_test = train_test_split(X, y, test_size=0.2, random_state=42)"
   ]
  },
  {
   "cell_type": "code",
   "execution_count": 7,
   "id": "2d632f1a",
   "metadata": {},
   "outputs": [],
   "source": [
    "trf1=ColumnTransformer([ \n",
    "    ('ohe_Country', OneHotEncoder(sparse=False, handle_unknown='ignore'), [0]),\n",
    "    ],remainder='passthrough')"
   ]
  },
  {
   "cell_type": "code",
   "execution_count": 8,
   "id": "64f867e3",
   "metadata": {},
   "outputs": [],
   "source": [
    "from sklearn.ensemble import RandomForestRegressor\n",
    "trf2 = DecisionTreeRegressor(random_state=0)"
   ]
  },
  {
   "cell_type": "code",
   "execution_count": 9,
   "id": "75d1434e",
   "metadata": {},
   "outputs": [
    {
     "name": "stderr",
     "output_type": "stream",
     "text": [
      "C:\\Users\\Omkar Khade\\anaconda3\\lib\\site-packages\\sklearn\\preprocessing\\_encoders.py:868: FutureWarning: `sparse` was renamed to `sparse_output` in version 1.2 and will be removed in 1.4. `sparse_output` is ignored unless you leave `sparse` to its default value.\n",
      "  warnings.warn(\n"
     ]
    },
    {
     "data": {
      "text/html": [
       "<style>#sk-container-id-1 {color: black;background-color: white;}#sk-container-id-1 pre{padding: 0;}#sk-container-id-1 div.sk-toggleable {background-color: white;}#sk-container-id-1 label.sk-toggleable__label {cursor: pointer;display: block;width: 100%;margin-bottom: 0;padding: 0.3em;box-sizing: border-box;text-align: center;}#sk-container-id-1 label.sk-toggleable__label-arrow:before {content: \"▸\";float: left;margin-right: 0.25em;color: #696969;}#sk-container-id-1 label.sk-toggleable__label-arrow:hover:before {color: black;}#sk-container-id-1 div.sk-estimator:hover label.sk-toggleable__label-arrow:before {color: black;}#sk-container-id-1 div.sk-toggleable__content {max-height: 0;max-width: 0;overflow: hidden;text-align: left;background-color: #f0f8ff;}#sk-container-id-1 div.sk-toggleable__content pre {margin: 0.2em;color: black;border-radius: 0.25em;background-color: #f0f8ff;}#sk-container-id-1 input.sk-toggleable__control:checked~div.sk-toggleable__content {max-height: 200px;max-width: 100%;overflow: auto;}#sk-container-id-1 input.sk-toggleable__control:checked~label.sk-toggleable__label-arrow:before {content: \"▾\";}#sk-container-id-1 div.sk-estimator input.sk-toggleable__control:checked~label.sk-toggleable__label {background-color: #d4ebff;}#sk-container-id-1 div.sk-label input.sk-toggleable__control:checked~label.sk-toggleable__label {background-color: #d4ebff;}#sk-container-id-1 input.sk-hidden--visually {border: 0;clip: rect(1px 1px 1px 1px);clip: rect(1px, 1px, 1px, 1px);height: 1px;margin: -1px;overflow: hidden;padding: 0;position: absolute;width: 1px;}#sk-container-id-1 div.sk-estimator {font-family: monospace;background-color: #f0f8ff;border: 1px dotted black;border-radius: 0.25em;box-sizing: border-box;margin-bottom: 0.5em;}#sk-container-id-1 div.sk-estimator:hover {background-color: #d4ebff;}#sk-container-id-1 div.sk-parallel-item::after {content: \"\";width: 100%;border-bottom: 1px solid gray;flex-grow: 1;}#sk-container-id-1 div.sk-label:hover label.sk-toggleable__label {background-color: #d4ebff;}#sk-container-id-1 div.sk-serial::before {content: \"\";position: absolute;border-left: 1px solid gray;box-sizing: border-box;top: 0;bottom: 0;left: 50%;z-index: 0;}#sk-container-id-1 div.sk-serial {display: flex;flex-direction: column;align-items: center;background-color: white;padding-right: 0.2em;padding-left: 0.2em;position: relative;}#sk-container-id-1 div.sk-item {position: relative;z-index: 1;}#sk-container-id-1 div.sk-parallel {display: flex;align-items: stretch;justify-content: center;background-color: white;position: relative;}#sk-container-id-1 div.sk-item::before, #sk-container-id-1 div.sk-parallel-item::before {content: \"\";position: absolute;border-left: 1px solid gray;box-sizing: border-box;top: 0;bottom: 0;left: 50%;z-index: -1;}#sk-container-id-1 div.sk-parallel-item {display: flex;flex-direction: column;z-index: 1;position: relative;background-color: white;}#sk-container-id-1 div.sk-parallel-item:first-child::after {align-self: flex-end;width: 50%;}#sk-container-id-1 div.sk-parallel-item:last-child::after {align-self: flex-start;width: 50%;}#sk-container-id-1 div.sk-parallel-item:only-child::after {width: 0;}#sk-container-id-1 div.sk-dashed-wrapped {border: 1px dashed gray;margin: 0 0.4em 0.5em 0.4em;box-sizing: border-box;padding-bottom: 0.4em;background-color: white;}#sk-container-id-1 div.sk-label label {font-family: monospace;font-weight: bold;display: inline-block;line-height: 1.2em;}#sk-container-id-1 div.sk-label-container {text-align: center;}#sk-container-id-1 div.sk-container {/* jupyter's `normalize.less` sets `[hidden] { display: none; }` but bootstrap.min.css set `[hidden] { display: none !important; }` so we also need the `!important` here to be able to override the default hidden behavior on the sphinx rendered scikit-learn.org. See: https://github.com/scikit-learn/scikit-learn/issues/21755 */display: inline-block !important;position: relative;}#sk-container-id-1 div.sk-text-repr-fallback {display: none;}</style><div id=\"sk-container-id-1\" class=\"sk-top-container\"><div class=\"sk-text-repr-fallback\"><pre>Pipeline(steps=[(&#x27;trf1&#x27;,\n",
       "                 ColumnTransformer(remainder=&#x27;passthrough&#x27;,\n",
       "                                   transformers=[(&#x27;ohe_Country&#x27;,\n",
       "                                                  OneHotEncoder(handle_unknown=&#x27;ignore&#x27;,\n",
       "                                                                sparse=False),\n",
       "                                                  [0])])),\n",
       "                (&#x27;trf2&#x27;, DecisionTreeRegressor(random_state=0))])</pre><b>In a Jupyter environment, please rerun this cell to show the HTML representation or trust the notebook. <br />On GitHub, the HTML representation is unable to render, please try loading this page with nbviewer.org.</b></div><div class=\"sk-container\" hidden><div class=\"sk-item sk-dashed-wrapped\"><div class=\"sk-label-container\"><div class=\"sk-label sk-toggleable\"><input class=\"sk-toggleable__control sk-hidden--visually\" id=\"sk-estimator-id-1\" type=\"checkbox\" ><label for=\"sk-estimator-id-1\" class=\"sk-toggleable__label sk-toggleable__label-arrow\">Pipeline</label><div class=\"sk-toggleable__content\"><pre>Pipeline(steps=[(&#x27;trf1&#x27;,\n",
       "                 ColumnTransformer(remainder=&#x27;passthrough&#x27;,\n",
       "                                   transformers=[(&#x27;ohe_Country&#x27;,\n",
       "                                                  OneHotEncoder(handle_unknown=&#x27;ignore&#x27;,\n",
       "                                                                sparse=False),\n",
       "                                                  [0])])),\n",
       "                (&#x27;trf2&#x27;, DecisionTreeRegressor(random_state=0))])</pre></div></div></div><div class=\"sk-serial\"><div class=\"sk-item sk-dashed-wrapped\"><div class=\"sk-label-container\"><div class=\"sk-label sk-toggleable\"><input class=\"sk-toggleable__control sk-hidden--visually\" id=\"sk-estimator-id-2\" type=\"checkbox\" ><label for=\"sk-estimator-id-2\" class=\"sk-toggleable__label sk-toggleable__label-arrow\">trf1: ColumnTransformer</label><div class=\"sk-toggleable__content\"><pre>ColumnTransformer(remainder=&#x27;passthrough&#x27;,\n",
       "                  transformers=[(&#x27;ohe_Country&#x27;,\n",
       "                                 OneHotEncoder(handle_unknown=&#x27;ignore&#x27;,\n",
       "                                               sparse=False),\n",
       "                                 [0])])</pre></div></div></div><div class=\"sk-parallel\"><div class=\"sk-parallel-item\"><div class=\"sk-item\"><div class=\"sk-label-container\"><div class=\"sk-label sk-toggleable\"><input class=\"sk-toggleable__control sk-hidden--visually\" id=\"sk-estimator-id-3\" type=\"checkbox\" ><label for=\"sk-estimator-id-3\" class=\"sk-toggleable__label sk-toggleable__label-arrow\">ohe_Country</label><div class=\"sk-toggleable__content\"><pre>[0]</pre></div></div></div><div class=\"sk-serial\"><div class=\"sk-item\"><div class=\"sk-estimator sk-toggleable\"><input class=\"sk-toggleable__control sk-hidden--visually\" id=\"sk-estimator-id-4\" type=\"checkbox\" ><label for=\"sk-estimator-id-4\" class=\"sk-toggleable__label sk-toggleable__label-arrow\">OneHotEncoder</label><div class=\"sk-toggleable__content\"><pre>OneHotEncoder(handle_unknown=&#x27;ignore&#x27;, sparse=False)</pre></div></div></div></div></div></div><div class=\"sk-parallel-item\"><div class=\"sk-item\"><div class=\"sk-label-container\"><div class=\"sk-label sk-toggleable\"><input class=\"sk-toggleable__control sk-hidden--visually\" id=\"sk-estimator-id-5\" type=\"checkbox\" ><label for=\"sk-estimator-id-5\" class=\"sk-toggleable__label sk-toggleable__label-arrow\">remainder</label><div class=\"sk-toggleable__content\"><pre>[&#x27;Year&#x27;]</pre></div></div></div><div class=\"sk-serial\"><div class=\"sk-item\"><div class=\"sk-estimator sk-toggleable\"><input class=\"sk-toggleable__control sk-hidden--visually\" id=\"sk-estimator-id-6\" type=\"checkbox\" ><label for=\"sk-estimator-id-6\" class=\"sk-toggleable__label sk-toggleable__label-arrow\">passthrough</label><div class=\"sk-toggleable__content\"><pre>passthrough</pre></div></div></div></div></div></div></div></div><div class=\"sk-item\"><div class=\"sk-estimator sk-toggleable\"><input class=\"sk-toggleable__control sk-hidden--visually\" id=\"sk-estimator-id-7\" type=\"checkbox\" ><label for=\"sk-estimator-id-7\" class=\"sk-toggleable__label sk-toggleable__label-arrow\">DecisionTreeRegressor</label><div class=\"sk-toggleable__content\"><pre>DecisionTreeRegressor(random_state=0)</pre></div></div></div></div></div></div></div>"
      ],
      "text/plain": [
       "Pipeline(steps=[('trf1',\n",
       "                 ColumnTransformer(remainder='passthrough',\n",
       "                                   transformers=[('ohe_Country',\n",
       "                                                  OneHotEncoder(handle_unknown='ignore',\n",
       "                                                                sparse=False),\n",
       "                                                  [0])])),\n",
       "                ('trf2', DecisionTreeRegressor(random_state=0))])"
      ]
     },
     "execution_count": 9,
     "metadata": {},
     "output_type": "execute_result"
    }
   ],
   "source": [
    "# Create the pipeline for one-hot encoding and linear regression\n",
    "pipeline = Pipeline([\n",
    "    ('trf1',trf1),\n",
    "    ('trf2',trf2),])\n",
    "# Fit the pipeline on the training data\n",
    "pipeline.fit(X_train, y_train)"
   ]
  },
  {
   "cell_type": "code",
   "execution_count": 10,
   "id": "4570ca8e",
   "metadata": {},
   "outputs": [
    {
     "name": "stdout",
     "output_type": "stream",
     "text": [
      "R-squared score: 0.9993736878978943\n"
     ]
    }
   ],
   "source": [
    "# Evaluate the pipeline on the testing data\n",
    "score = pipeline.score(X_test, y_test)\n",
    "print(\"R-squared score:\", score)"
   ]
  },
  {
   "cell_type": "code",
   "execution_count": 11,
   "id": "c24b399d",
   "metadata": {},
   "outputs": [
    {
     "data": {
      "text/plain": [
       "array([[0.252174, 1.103326, 0.462236, ..., 1.516393, 4.257338, 1.407681],\n",
       "       [0.251197, 0.578247, 0.196888, ..., 0.664769, 3.461155, 0.644343],\n",
       "       [0.21744 , 0.534204, 0.115784, ..., 0.543623, 2.616892, 0.56679 ],\n",
       "       ...,\n",
       "       [0.247568, 0.925712, 0.432339, ..., 0.67709 , 4.679851, 1.187652],\n",
       "       [0.263563, 0.555144, 0.139099, ..., 0.503234, 3.520174, 1.178418],\n",
       "       [0.253872, 1.108573, 0.513942, ..., 1.705342, 4.218074, 1.553516]])"
      ]
     },
     "execution_count": 11,
     "metadata": {},
     "output_type": "execute_result"
    }
   ],
   "source": [
    "y_pred = pipeline.predict(X_test)\n",
    "y_pred"
   ]
  },
  {
   "cell_type": "code",
   "execution_count": 12,
   "id": "4e0bb09e",
   "metadata": {},
   "outputs": [
    {
     "name": "stdout",
     "output_type": "stream",
     "text": [
      "RMSE: 0.014737179665872322\n"
     ]
    }
   ],
   "source": [
    "from sklearn.metrics import mean_squared_error\n",
    "# Make predictions on the testing data\n",
    "\n",
    "# Evaluate the model performance using Root Mean Squared Error (RMSE)\n",
    "rmse = mean_squared_error(y_test, y_pred, squared=False)\n",
    "print(\"RMSE:\", rmse)"
   ]
  },
  {
   "cell_type": "code",
   "execution_count": 13,
   "id": "e9d4fae1",
   "metadata": {},
   "outputs": [
    {
     "name": "stdout",
     "output_type": "stream",
     "text": [
      "Cross-Validation Scores: [0.98931015 0.88769685 0.98534146 0.99548478 0.99047697]\n",
      "Mean Score: 0.9696620407605525\n"
     ]
    },
    {
     "name": "stderr",
     "output_type": "stream",
     "text": [
      "C:\\Users\\Omkar Khade\\anaconda3\\lib\\site-packages\\sklearn\\preprocessing\\_encoders.py:868: FutureWarning: `sparse` was renamed to `sparse_output` in version 1.2 and will be removed in 1.4. `sparse_output` is ignored unless you leave `sparse` to its default value.\n",
      "  warnings.warn(\n",
      "C:\\Users\\Omkar Khade\\anaconda3\\lib\\site-packages\\sklearn\\preprocessing\\_encoders.py:868: FutureWarning: `sparse` was renamed to `sparse_output` in version 1.2 and will be removed in 1.4. `sparse_output` is ignored unless you leave `sparse` to its default value.\n",
      "  warnings.warn(\n",
      "C:\\Users\\Omkar Khade\\anaconda3\\lib\\site-packages\\sklearn\\preprocessing\\_encoders.py:868: FutureWarning: `sparse` was renamed to `sparse_output` in version 1.2 and will be removed in 1.4. `sparse_output` is ignored unless you leave `sparse` to its default value.\n",
      "  warnings.warn(\n",
      "C:\\Users\\Omkar Khade\\anaconda3\\lib\\site-packages\\sklearn\\preprocessing\\_encoders.py:868: FutureWarning: `sparse` was renamed to `sparse_output` in version 1.2 and will be removed in 1.4. `sparse_output` is ignored unless you leave `sparse` to its default value.\n",
      "  warnings.warn(\n",
      "C:\\Users\\Omkar Khade\\anaconda3\\lib\\site-packages\\sklearn\\preprocessing\\_encoders.py:868: FutureWarning: `sparse` was renamed to `sparse_output` in version 1.2 and will be removed in 1.4. `sparse_output` is ignored unless you leave `sparse` to its default value.\n",
      "  warnings.warn(\n"
     ]
    }
   ],
   "source": [
    "#cross-validation scores for test data\n",
    "scores = cross_val_score(pipeline, X_test, y_test, cv=5)  \n",
    "# Print the cross-validation scores\n",
    "print(\"Cross-Validation Scores:\", scores)\n",
    "print(\"Mean Score:\", scores.mean())"
   ]
  },
  {
   "cell_type": "code",
   "execution_count": 14,
   "id": "2eda1d7e",
   "metadata": {},
   "outputs": [
    {
     "name": "stderr",
     "output_type": "stream",
     "text": [
      "C:\\Users\\Omkar Khade\\anaconda3\\lib\\site-packages\\sklearn\\preprocessing\\_encoders.py:868: FutureWarning: `sparse` was renamed to `sparse_output` in version 1.2 and will be removed in 1.4. `sparse_output` is ignored unless you leave `sparse` to its default value.\n",
      "  warnings.warn(\n",
      "C:\\Users\\Omkar Khade\\anaconda3\\lib\\site-packages\\sklearn\\preprocessing\\_encoders.py:868: FutureWarning: `sparse` was renamed to `sparse_output` in version 1.2 and will be removed in 1.4. `sparse_output` is ignored unless you leave `sparse` to its default value.\n",
      "  warnings.warn(\n",
      "C:\\Users\\Omkar Khade\\anaconda3\\lib\\site-packages\\sklearn\\preprocessing\\_encoders.py:868: FutureWarning: `sparse` was renamed to `sparse_output` in version 1.2 and will be removed in 1.4. `sparse_output` is ignored unless you leave `sparse` to its default value.\n",
      "  warnings.warn(\n",
      "C:\\Users\\Omkar Khade\\anaconda3\\lib\\site-packages\\sklearn\\preprocessing\\_encoders.py:868: FutureWarning: `sparse` was renamed to `sparse_output` in version 1.2 and will be removed in 1.4. `sparse_output` is ignored unless you leave `sparse` to its default value.\n",
      "  warnings.warn(\n"
     ]
    },
    {
     "name": "stdout",
     "output_type": "stream",
     "text": [
      "Cross-Validation Scores: [0.99926361 0.9989574  0.99909376 0.99865967 0.99927306]\n",
      "Mean Score: 0.9990494993837524\n"
     ]
    },
    {
     "name": "stderr",
     "output_type": "stream",
     "text": [
      "C:\\Users\\Omkar Khade\\anaconda3\\lib\\site-packages\\sklearn\\preprocessing\\_encoders.py:868: FutureWarning: `sparse` was renamed to `sparse_output` in version 1.2 and will be removed in 1.4. `sparse_output` is ignored unless you leave `sparse` to its default value.\n",
      "  warnings.warn(\n"
     ]
    }
   ],
   "source": [
    "#cross-validation scores for train data\n",
    "scores = cross_val_score(pipeline, X_train, y_train, cv=5)  \n",
    "# Print the cross-validation scores\n",
    "print(\"Cross-Validation Scores:\", scores)\n",
    "print(\"Mean Score:\", scores.mean())"
   ]
  },
  {
   "cell_type": "code",
   "execution_count": null,
   "id": "95495573",
   "metadata": {},
   "outputs": [],
   "source": [
    "import pickle"
   ]
  }
 ],
 "metadata": {
  "kernelspec": {
   "display_name": "Python 3 (ipykernel)",
   "language": "python",
   "name": "python3"
  },
  "language_info": {
   "codemirror_mode": {
    "name": "ipython",
    "version": 3
   },
   "file_extension": ".py",
   "mimetype": "text/x-python",
   "name": "python",
   "nbconvert_exporter": "python",
   "pygments_lexer": "ipython3",
   "version": "3.9.13"
  }
 },
 "nbformat": 4,
 "nbformat_minor": 5
}
